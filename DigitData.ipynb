{
 "cells": [
  {
   "cell_type": "markdown",
   "metadata": {},
   "source": [
    "# Classifying hand gestures with LSTM and Keras"
   ]
  },
  {
   "cell_type": "code",
   "execution_count": 28,
   "metadata": {},
   "outputs": [
    {
     "name": "stdout",
     "output_type": "stream",
     "text": [
      "315 315\n"
     ]
    }
   ],
   "source": [
    "# Gather data set into paths and class labels\n",
    "import glob, os\n",
    "import re\n",
    "\n",
    "paths = []\n",
    "labels = []\n",
    "for path, subdirs, files in os.walk('DigitData'):\n",
    "    for name in files:\n",
    "        paths.append(os.path.join(path, name))\n",
    "        labels.append(re.split(r'(\\d+)', name)[0])\n",
    "print(len(paths), len(labels))"
   ]
  },
  {
   "cell_type": "code",
   "execution_count": 29,
   "metadata": {},
   "outputs": [
    {
     "name": "stdout",
     "output_type": "stream",
     "text": [
      "{'M_R', 'IMR', 'M_M', 'T_R', 'I_M', 'T_I', 'HC_', 'T_T', 'T_M', 'MRL', 'I_I', 'L_L', 'R_L', 'T_L', 'R_R'} 15\n"
     ]
    }
   ],
   "source": [
    "# Verify we have 15 unique classes\n",
    "myset = set(labels)\n",
    "num_classes = len(myset)\n",
    "print(myset, num_classes)\n",
    "import pandas as pd\n",
    "#Get shape if input data\n",
    "df = pd.read_csv(paths[0], header=None, nrows=20000)\n",
    "timestep = df.shape[0]\n",
    "num_channels = df.shape[1]"
   ]
  },
  {
   "cell_type": "code",
   "execution_count": 30,
   "metadata": {},
   "outputs": [],
   "source": [
    "#Dealing with x data\n",
    "import numpy as np\n",
    "#Initialize x data\n",
    "x_data = np.empty((len(paths), timestep, num_channels), dtype=np.float32)\n",
    "#Load dat to tensor\n",
    "for i, path in enumerate(paths):\n",
    "    data = pd.read_csv(path, header=None, nrows=20000)\n",
    "    x_data[i,:,:] = data.values\n",
    "import scipy.signal as sg\n",
    "decimated = sg.decimate(x_data, axis = 1, q =20)"
   ]
  },
  {
   "cell_type": "code",
   "execution_count": 31,
   "metadata": {},
   "outputs": [
    {
     "data": {
      "text/plain": [
       "array([ 5, 10,  4, 14, 11,  0,  6, 13,  1,  9, 14, 12, 11,  7,  9,  6,  7,\n",
       "        8,  2, 12, 11,  1,  5,  8,  8,  1,  3, 14,  4,  5,  6,  2,  0,  4,\n",
       "       13,  0,  2, 10, 12,  9, 13, 10,  3,  7,  3,  5, 10,  4, 14, 11,  0,\n",
       "        6, 13,  1,  9, 14, 12, 11,  7,  9,  6,  7,  8,  2, 12, 11,  1,  5,\n",
       "        8,  8,  1,  3, 14,  4,  5,  6,  2,  0,  4, 13,  0,  2, 10, 12,  9,\n",
       "       13, 10,  3,  7,  3,  5, 10,  4, 14, 11,  0,  6, 13,  1,  9, 14, 12,\n",
       "       11,  7,  9,  6,  7,  8,  2, 12, 11,  1,  5,  8,  8,  1,  3, 14,  4,\n",
       "        5,  6,  2,  0,  4, 13,  0,  2, 10, 12,  9, 13, 10,  3,  7,  3,  5,\n",
       "       10,  4, 14, 11,  0,  6, 13,  1,  9, 14, 12, 11,  7,  9,  6,  7,  8,\n",
       "        2, 12, 11,  1,  5,  8,  8,  1,  3, 14,  4,  5,  6,  2,  0,  4, 13,\n",
       "        0,  2, 10, 12,  9, 13, 10,  3,  7,  3,  5, 10,  4, 14, 11,  0,  6,\n",
       "       13,  1,  9, 14, 12, 11,  7,  9,  6,  7,  8,  2, 12, 11,  1,  5,  8,\n",
       "        8,  1,  3, 14,  4,  5,  6,  2,  0,  4, 13,  0,  2, 10, 12,  9, 13,\n",
       "       10,  3,  7,  3,  5, 10,  4, 14, 11,  0,  6, 13,  1,  9, 14, 12, 11,\n",
       "        7,  9,  6,  7,  8,  2, 12, 11,  1,  5,  8,  8,  1,  3, 14,  4,  5,\n",
       "        6,  2,  0,  4, 13,  0,  2, 10, 12,  9, 13, 10,  3,  7,  3,  5, 10,\n",
       "        4, 14, 11,  0,  6, 13,  1,  9, 14, 12, 11,  7,  9,  6,  7,  8,  2,\n",
       "       12, 11,  1,  5,  8,  8,  1,  3, 14,  4,  5,  6,  2,  0,  4, 13,  0,\n",
       "        2, 10, 12,  9, 13, 10,  3,  7,  3])"
      ]
     },
     "execution_count": 31,
     "metadata": {},
     "output_type": "execute_result"
    }
   ],
   "source": [
    "#Dealing with y data\n",
    "from sklearn.preprocessing import LabelEncoder, OneHotEncoder\n",
    "#Change class label to one-hot vectors \n",
    "le = LabelEncoder()\n",
    "one_hot = OneHotEncoder(sparse = False)\n",
    "\n",
    "#Convert to ints\n",
    "le.fit(list(myset))\n",
    "int_labels = le.transform(labels)\n",
    "int_labels"
   ]
  },
  {
   "cell_type": "code",
   "execution_count": 32,
   "metadata": {},
   "outputs": [],
   "source": [
    "#Splitting data to train test val split\n",
    "from sklearn.model_selection import train_test_split\n",
    "X_train, X_test, y_train, y_test = train_test_split(decimated,int_labels, test_size = 0.2, random_state=40, \n",
    "                                                   stratify = int_labels)"
   ]
  },
  {
   "cell_type": "code",
   "execution_count": 33,
   "metadata": {},
   "outputs": [],
   "source": [
    "#Normalize the data\n",
    "channel_means = np.mean(X_train, axis = (0,1)).reshape(1,8)\n",
    "channel_std = np.std(X_train, axis = (0,1)).reshape(1,8)\n",
    "X_train -= channel_means\n",
    "X_train /= channel_std"
   ]
  },
  {
   "cell_type": "code",
   "execution_count": 34,
   "metadata": {},
   "outputs": [],
   "source": [
    "#Split train into train-val\n",
    "X_train, X_val, y_train, y_val = train_test_split(X_train, y_train, test_size = 0.2, random_state=40, \n",
    "                                                 stratify = y_train)"
   ]
  },
  {
   "cell_type": "code",
   "execution_count": 35,
   "metadata": {},
   "outputs": [],
   "source": [
    "#Set up Keras model\n",
    "from keras.models import Sequential\n",
    "from keras.layers import LSTM, Dense\n",
    "\n",
    "model = Sequential()\n",
    "model.add(LSTM(256,\n",
    "              input_shape = (1000, num_channels), return_sequences = True))\n",
    "model.add(LSTM(256, return_sequences = True))\n",
    "model.add(LSTM(256))\n",
    "model.add(Dense(num_classes, activation = 'softmax'))"
   ]
  },
  {
   "cell_type": "code",
   "execution_count": 36,
   "metadata": {},
   "outputs": [],
   "source": [
    "model.compile(loss = 'sparse_categorical_crossentropy',\n",
    "             optimizer= 'adam',\n",
    "             metrics = ['accuracy'])"
   ]
  },
  {
   "cell_type": "code",
   "execution_count": null,
   "metadata": {
    "scrolled": true
   },
   "outputs": [
    {
     "name": "stdout",
     "output_type": "stream",
     "text": [
      "Train on 201 samples, validate on 51 samples\n",
      "Epoch 1/50\n",
      "201/201 [==============================] - 74s 366ms/step - loss: 2.6994 - acc: 0.0846 - val_loss: 2.5872 - val_acc: 0.0980\n",
      "Epoch 2/50\n",
      "201/201 [==============================] - 70s 349ms/step - loss: 2.5523 - acc: 0.1741 - val_loss: 2.4707 - val_acc: 0.1569\n",
      "Epoch 3/50\n",
      "201/201 [==============================] - 70s 349ms/step - loss: 2.4121 - acc: 0.1542 - val_loss: 2.4761 - val_acc: 0.1176\n",
      "Epoch 4/50\n",
      "201/201 [==============================] - 71s 354ms/step - loss: 2.4256 - acc: 0.1393 - val_loss: 2.5141 - val_acc: 0.1373\n",
      "Epoch 5/50\n",
      "201/201 [==============================] - 73s 362ms/step - loss: 2.3919 - acc: 0.1692 - val_loss: 2.4682 - val_acc: 0.1765\n",
      "Epoch 6/50\n",
      "201/201 [==============================] - 72s 357ms/step - loss: 2.3132 - acc: 0.2040 - val_loss: 2.3155 - val_acc: 0.1765\n",
      "Epoch 7/50\n",
      "201/201 [==============================] - 72s 358ms/step - loss: 2.2711 - acc: 0.1542 - val_loss: 2.3645 - val_acc: 0.1373\n",
      "Epoch 8/50\n",
      "128/201 [==================>...........] - ETA: 22s - loss: 2.2012 - acc: 0.2344"
     ]
    }
   ],
   "source": [
    "model.fit(X_train, y_train, batch_size=32, epochs=50, validation_data=(X_val,y_val))"
   ]
  },
  {
   "cell_type": "code",
   "execution_count": null,
   "metadata": {},
   "outputs": [],
   "source": []
  },
  {
   "cell_type": "code",
   "execution_count": null,
   "metadata": {},
   "outputs": [],
   "source": []
  }
 ],
 "metadata": {
  "kernelspec": {
   "display_name": "Python 3",
   "language": "python",
   "name": "python3"
  },
  "language_info": {
   "codemirror_mode": {
    "name": "ipython",
    "version": 3
   },
   "file_extension": ".py",
   "mimetype": "text/x-python",
   "name": "python",
   "nbconvert_exporter": "python",
   "pygments_lexer": "ipython3",
   "version": "3.6.4"
  }
 },
 "nbformat": 4,
 "nbformat_minor": 2
}
